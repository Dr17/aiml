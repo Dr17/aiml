{
  "nbformat": 4,
  "nbformat_minor": 0,
  "metadata": {
    "colab": {
      "provenance": [],
      "authorship_tag": "ABX9TyMPnBts4TATgnqGpsOLAF5G",
      "include_colab_link": true
    },
    "kernelspec": {
      "name": "python3",
      "display_name": "Python 3"
    },
    "language_info": {
      "name": "python"
    }
  },
  "cells": [
    {
      "cell_type": "markdown",
      "metadata": {
        "id": "view-in-github",
        "colab_type": "text"
      },
      "source": [
        "<a href=\"https://colab.research.google.com/github/Dr17/aiml/blob/main/ML_PROJECT.ipynb\" target=\"_parent\"><img src=\"https://colab.research.google.com/assets/colab-badge.svg\" alt=\"Open In Colab\"/></a>"
      ]
    },
    {
      "cell_type": "code",
      "execution_count": 2,
      "metadata": {
        "id": "cdX2uhGmDlWb",
        "colab": {
          "base_uri": "https://localhost:8080/"
        },
        "outputId": "9b8e9e24-e76e-4f0c-f0b3-062df3643635"
      },
      "outputs": [
        {
          "output_type": "stream",
          "name": "stdout",
          "text": [
            "[('good', 1), ('durable', 1), ('bad', 1), ('quality', 1), ('support', 1), ('good', 1), ('bad', 1), ('good', 1), ('quality', 1), ('delivery', 1)]\n",
            "good [1, 1, 1]\n",
            "durable [1]\n",
            "bad [1, 1]\n",
            "quality [1, 1]\n",
            "support [1]\n",
            "delivery [1]\n"
          ]
        }
      ],
      "source": [
        "from collections import defaultdict\n",
        "reviews = [\n",
        "    \"The product is good and durable\",\n",
        "    \"Bad quality and poor support\",\n",
        "    \"Good value for money\",\n",
        "    \"Very bad experience, not recommended\",\n",
        "    \"Good quality but slow delivery\",\n",
        "]\n",
        "keywords = [\"good\", \"bad\", \"quality\", \"support\", \"durable\", \"delivery\"]\n",
        "mapped = []\n",
        "for review in reviews:\n",
        "  words = review.lower().split()\n",
        "  for word in words:\n",
        "    if word in keywords:\n",
        "      mapped.append((word,1))\n",
        "\n",
        "print(mapped)\n",
        "\n",
        "grouped = defaultdict(list)\n",
        "for word,count in mapped:\n",
        "  grouped[word].append(count)\n",
        "\n",
        "for key in grouped:\n",
        "  print(key,grouped[key])\n"
      ]
    },
    {
      "cell_type": "code",
      "source": [],
      "metadata": {
        "id": "sr4zq5rj1aaE"
      },
      "execution_count": null,
      "outputs": []
    }
  ]
}